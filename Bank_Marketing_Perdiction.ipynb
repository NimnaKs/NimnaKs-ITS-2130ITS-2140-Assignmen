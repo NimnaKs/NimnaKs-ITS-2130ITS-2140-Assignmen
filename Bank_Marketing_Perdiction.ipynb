{
 "cells": [
  {
   "cell_type": "code",
   "execution_count": 42,
   "metadata": {},
   "outputs": [],
   "source": [
    "import pandas as pd\n",
    "import numpy as np\n",
    "import matplotlib.pyplot as plt\n",
    "import seaborn as sns\n",
    "import category_encoders as ce\n",
    "from sklearn.model_selection import train_test_split\n",
    "from sklearn.svm import SVC\n",
    "from sklearn.linear_model import LogisticRegression\n",
    "from sklearn.metrics import accuracy_score, classification_report, confusion_matrix\n",
    "import joblib"
   ]
  },
  {
   "cell_type": "code",
   "execution_count": 43,
   "metadata": {},
   "outputs": [
    {
     "data": {
      "text/html": [
       "<div>\n",
       "<style scoped>\n",
       "    .dataframe tbody tr th:only-of-type {\n",
       "        vertical-align: middle;\n",
       "    }\n",
       "\n",
       "    .dataframe tbody tr th {\n",
       "        vertical-align: top;\n",
       "    }\n",
       "\n",
       "    .dataframe thead th {\n",
       "        text-align: right;\n",
       "    }\n",
       "</style>\n",
       "<table border=\"1\" class=\"dataframe\">\n",
       "  <thead>\n",
       "    <tr style=\"text-align: right;\">\n",
       "      <th></th>\n",
       "      <th>age</th>\n",
       "      <th>job</th>\n",
       "      <th>marital</th>\n",
       "      <th>education</th>\n",
       "      <th>default</th>\n",
       "      <th>housing</th>\n",
       "      <th>loan</th>\n",
       "      <th>contact</th>\n",
       "      <th>month</th>\n",
       "      <th>day_of_week</th>\n",
       "      <th>...</th>\n",
       "      <th>campaign</th>\n",
       "      <th>pdays</th>\n",
       "      <th>previous</th>\n",
       "      <th>poutcome</th>\n",
       "      <th>emp.var.rate</th>\n",
       "      <th>cons.price.idx</th>\n",
       "      <th>cons.conf.idx</th>\n",
       "      <th>euribor3m</th>\n",
       "      <th>nr.employed</th>\n",
       "      <th>y</th>\n",
       "    </tr>\n",
       "  </thead>\n",
       "  <tbody>\n",
       "    <tr>\n",
       "      <th>0</th>\n",
       "      <td>56</td>\n",
       "      <td>housemaid</td>\n",
       "      <td>married</td>\n",
       "      <td>basic.4y</td>\n",
       "      <td>no</td>\n",
       "      <td>no</td>\n",
       "      <td>no</td>\n",
       "      <td>telephone</td>\n",
       "      <td>may</td>\n",
       "      <td>mon</td>\n",
       "      <td>...</td>\n",
       "      <td>1</td>\n",
       "      <td>999</td>\n",
       "      <td>0</td>\n",
       "      <td>nonexistent</td>\n",
       "      <td>1.1</td>\n",
       "      <td>93.994</td>\n",
       "      <td>-36.4</td>\n",
       "      <td>4.857</td>\n",
       "      <td>5191.0</td>\n",
       "      <td>no</td>\n",
       "    </tr>\n",
       "    <tr>\n",
       "      <th>1</th>\n",
       "      <td>57</td>\n",
       "      <td>services</td>\n",
       "      <td>married</td>\n",
       "      <td>high.school</td>\n",
       "      <td>unknown</td>\n",
       "      <td>no</td>\n",
       "      <td>no</td>\n",
       "      <td>telephone</td>\n",
       "      <td>may</td>\n",
       "      <td>mon</td>\n",
       "      <td>...</td>\n",
       "      <td>1</td>\n",
       "      <td>999</td>\n",
       "      <td>0</td>\n",
       "      <td>nonexistent</td>\n",
       "      <td>1.1</td>\n",
       "      <td>93.994</td>\n",
       "      <td>-36.4</td>\n",
       "      <td>4.857</td>\n",
       "      <td>5191.0</td>\n",
       "      <td>no</td>\n",
       "    </tr>\n",
       "    <tr>\n",
       "      <th>2</th>\n",
       "      <td>37</td>\n",
       "      <td>services</td>\n",
       "      <td>married</td>\n",
       "      <td>high.school</td>\n",
       "      <td>no</td>\n",
       "      <td>yes</td>\n",
       "      <td>no</td>\n",
       "      <td>telephone</td>\n",
       "      <td>may</td>\n",
       "      <td>mon</td>\n",
       "      <td>...</td>\n",
       "      <td>1</td>\n",
       "      <td>999</td>\n",
       "      <td>0</td>\n",
       "      <td>nonexistent</td>\n",
       "      <td>1.1</td>\n",
       "      <td>93.994</td>\n",
       "      <td>-36.4</td>\n",
       "      <td>4.857</td>\n",
       "      <td>5191.0</td>\n",
       "      <td>no</td>\n",
       "    </tr>\n",
       "    <tr>\n",
       "      <th>3</th>\n",
       "      <td>40</td>\n",
       "      <td>admin.</td>\n",
       "      <td>married</td>\n",
       "      <td>basic.6y</td>\n",
       "      <td>no</td>\n",
       "      <td>no</td>\n",
       "      <td>no</td>\n",
       "      <td>telephone</td>\n",
       "      <td>may</td>\n",
       "      <td>mon</td>\n",
       "      <td>...</td>\n",
       "      <td>1</td>\n",
       "      <td>999</td>\n",
       "      <td>0</td>\n",
       "      <td>nonexistent</td>\n",
       "      <td>1.1</td>\n",
       "      <td>93.994</td>\n",
       "      <td>-36.4</td>\n",
       "      <td>4.857</td>\n",
       "      <td>5191.0</td>\n",
       "      <td>no</td>\n",
       "    </tr>\n",
       "    <tr>\n",
       "      <th>4</th>\n",
       "      <td>56</td>\n",
       "      <td>services</td>\n",
       "      <td>married</td>\n",
       "      <td>high.school</td>\n",
       "      <td>no</td>\n",
       "      <td>no</td>\n",
       "      <td>yes</td>\n",
       "      <td>telephone</td>\n",
       "      <td>may</td>\n",
       "      <td>mon</td>\n",
       "      <td>...</td>\n",
       "      <td>1</td>\n",
       "      <td>999</td>\n",
       "      <td>0</td>\n",
       "      <td>nonexistent</td>\n",
       "      <td>1.1</td>\n",
       "      <td>93.994</td>\n",
       "      <td>-36.4</td>\n",
       "      <td>4.857</td>\n",
       "      <td>5191.0</td>\n",
       "      <td>no</td>\n",
       "    </tr>\n",
       "  </tbody>\n",
       "</table>\n",
       "<p>5 rows × 21 columns</p>\n",
       "</div>"
      ],
      "text/plain": [
       "   age        job  marital    education  default housing loan    contact  \\\n",
       "0   56  housemaid  married     basic.4y       no      no   no  telephone   \n",
       "1   57   services  married  high.school  unknown      no   no  telephone   \n",
       "2   37   services  married  high.school       no     yes   no  telephone   \n",
       "3   40     admin.  married     basic.6y       no      no   no  telephone   \n",
       "4   56   services  married  high.school       no      no  yes  telephone   \n",
       "\n",
       "  month day_of_week  ...  campaign  pdays  previous     poutcome emp.var.rate  \\\n",
       "0   may         mon  ...         1    999         0  nonexistent          1.1   \n",
       "1   may         mon  ...         1    999         0  nonexistent          1.1   \n",
       "2   may         mon  ...         1    999         0  nonexistent          1.1   \n",
       "3   may         mon  ...         1    999         0  nonexistent          1.1   \n",
       "4   may         mon  ...         1    999         0  nonexistent          1.1   \n",
       "\n",
       "   cons.price.idx  cons.conf.idx  euribor3m  nr.employed   y  \n",
       "0          93.994          -36.4      4.857       5191.0  no  \n",
       "1          93.994          -36.4      4.857       5191.0  no  \n",
       "2          93.994          -36.4      4.857       5191.0  no  \n",
       "3          93.994          -36.4      4.857       5191.0  no  \n",
       "4          93.994          -36.4      4.857       5191.0  no  \n",
       "\n",
       "[5 rows x 21 columns]"
      ]
     },
     "execution_count": 43,
     "metadata": {},
     "output_type": "execute_result"
    }
   ],
   "source": [
    "# 1. Load the data\n",
    "df = pd.read_csv(\"data/bank-additional-full.csv\", sep=';')\n",
    "df.head()"
   ]
  },
  {
   "cell_type": "code",
   "execution_count": 44,
   "metadata": {},
   "outputs": [
    {
     "data": {
      "text/plain": [
       "'There is 41188 observations with 21 features'"
      ]
     },
     "metadata": {},
     "output_type": "display_data"
    }
   ],
   "source": [
    "display('There is {} observations with {} features'.format(df.shape[0], df.shape[1]))"
   ]
  },
  {
   "cell_type": "code",
   "execution_count": 45,
   "metadata": {},
   "outputs": [],
   "source": [
    "# Impute categorical 'unknown' values with the mode\n",
    "categorical_cols = df.select_dtypes(include=['object']).columns\n",
    "for col in categorical_cols:\n",
    "    if 'unknown' in df[col].unique():\n",
    "        mode_val = df.loc[df[col] != 'unknown', col].mode()[0]\n",
    "        df[col] = df[col].replace('unknown', mode_val)\n",
    "\n",
    "# For numerical columns, fill missing values with the mean (if there are any NaNs)\n",
    "numerical_cols = df.select_dtypes(include=[np.number]).columns\n",
    "df[numerical_cols] = df[numerical_cols].fillna(df[numerical_cols].mean())"
   ]
  },
  {
   "cell_type": "code",
   "execution_count": 46,
   "metadata": {},
   "outputs": [],
   "source": [
    "df.drop('duration', axis=1, inplace=True)"
   ]
  },
  {
   "cell_type": "code",
   "execution_count": 47,
   "metadata": {},
   "outputs": [],
   "source": [
    "# Build a function to show categorical values disribution\n",
    "def plot_bar(column):\n",
    "    temp_1 = pd.DataFrame()\n",
    "    temp_1['No_deposit'] = df[df['y'] == 'no'][column].value_counts()\n",
    "    temp_1['Yes_deposit'] = df[df['y'] == 'yes'][column].value_counts()\n",
    "    temp_1.plot(kind='bar')\n",
    "    plt.xlabel(f'{column}')\n",
    "    plt.ylabel('Number of clients')\n",
    "    plt.title('Distribution of {} and deposit'.format(column))\n",
    "    plt.show()"
   ]
  },
  {
   "cell_type": "code",
   "execution_count": 48,
   "metadata": {},
   "outputs": [
    {
     "data": {
      "image/png": "[encoded data removed]",
      "text/plain": [
       "<Figure size 640x480 with 1 Axes>"
      ]
     },
     "metadata": {},
     "output_type": "display_data"
    },
    {
     "data": {
      "image/png": "[encoded data removed]",
      "text/plain": [
       "<Figure size 640x480 with 1 Axes>"
      ]
     },
     "metadata": {},
     "output_type": "display_data"
    },
    {
     "data": {
      "image/png": "[encoded data removed]",
      "text/plain": [
       "<Figure size 640x480 with 1 Axes>"
      ]
     },
     "metadata": {},
     "output_type": "display_data"
    },
    {
     "data": {
      "image/png": "[encoded data removed]",
      "text/plain": [
       "<Figure size 640x480 with 1 Axes>"
      ]
     },
     "metadata": {},
     "output_type": "display_data"
    },
    {
     "data": {
      "image/png": "[encoded data removed]",
      "text/plain": [
       "<Figure size 640x480 with 1 Axes>"
      ]
     },
     "metadata": {},
     "output_type": "display_data"
    },
    {
     "data": {
      "image/png": "[encoded data removed]",
      "text/plain": [
       "<Figure size 640x480 with 1 Axes>"
      ]
     },
     "metadata": {},
     "output_type": "display_data"
    }
   ],
   "source": [
    "plot_bar('job'), \n",
    "plot_bar('marital'), \n",
    "plot_bar('education'), \n",
    "plot_bar('contact'), \n",
    "plot_bar('loan'), \n",
    "plot_bar('housing')"
   ]
  },
  {
   "cell_type": "markdown",
   "metadata": {},
   "source": [
    "**Primary analysis of several categorical features reveals:**\n",
    "\n",
    "###### Administrative staff and technical specialists opened the deposit most of all. \n",
    "###### In relative terms, a high proportion of pensioners and students might be mentioned as well.\n",
    "###### Although in absolute terms married consumers more often agreed to the service, in relative terms the single was responded better.\n",
    "###### Best communication channel is secullar.\n",
    "###### The difference is evident between consumers who already use the services of banks and received a loan.\n",
    "###### Home ownership does not greatly affect marketing company performance."
   ]
  },
  {
   "cell_type": "markdown",
   "metadata": {},
   "source": [
    "**Explore numerical features**"
   ]
  },
  {
   "cell_type": "code",
   "execution_count": 49,
   "metadata": {},
   "outputs": [],
   "source": [
    "# Convert target variable into numeric\n",
    "df.y = df.y.map({'no':0, 'yes':1}).astype('uint8')"
   ]
  },
  {
   "cell_type": "code",
   "execution_count": 50,
   "metadata": {},
   "outputs": [
    {
     "data": {
      "text/html": [
       "<style type=\"text/css\">\n",
       "#T_ed094_row0_col0, #T_ed094_row1_col1, #T_ed094_row2_col2, #T_ed094_row3_col3, #T_ed094_row4_col4, #T_ed094_row5_col5, #T_ed094_row6_col6, #T_ed094_row7_col7, #T_ed094_row8_col8, #T_ed094_row9_col9 {\n",
       "  background-color: #023858;\n",
       "  color: #f1f1f1;\n",
       "}\n",
       "#T_ed094_row0_col1 {\n",
       "  background-color: #f4edf6;\n",
       "  color: #000000;\n",
       "}\n",
       "#T_ed094_row0_col2 {\n",
       "  background-color: #afc1dd;\n",
       "  color: #000000;\n",
       "}\n",
       "#T_ed094_row0_col3 {\n",
       "  background-color: #a2bcda;\n",
       "  color: #000000;\n",
       "}\n",
       "#T_ed094_row0_col4 {\n",
       "  background-color: #c1cae2;\n",
       "  color: #000000;\n",
       "}\n",
       "#T_ed094_row0_col5 {\n",
       "  background-color: #e2dfee;\n",
       "  color: #000000;\n",
       "}\n",
       "#T_ed094_row0_col6 {\n",
       "  background-color: #dbdaeb;\n",
       "  color: #000000;\n",
       "}\n",
       "#T_ed094_row0_col7, #T_ed094_row1_col3 {\n",
       "  background-color: #b9c6e0;\n",
       "  color: #000000;\n",
       "}\n",
       "#T_ed094_row0_col8 {\n",
       "  background-color: #b8c6e0;\n",
       "  color: #000000;\n",
       "}\n",
       "#T_ed094_row0_col9 {\n",
       "  background-color: #c5cce3;\n",
       "  color: #000000;\n",
       "}\n",
       "#T_ed094_row1_col0, #T_ed094_row3_col6 {\n",
       "  background-color: #faf2f8;\n",
       "  color: #000000;\n",
       "}\n",
       "#T_ed094_row1_col2, #T_ed094_row1_col7 {\n",
       "  background-color: #9ab8d8;\n",
       "  color: #000000;\n",
       "}\n",
       "#T_ed094_row1_col4, #T_ed094_row6_col8 {\n",
       "  background-color: #9cb9d9;\n",
       "  color: #000000;\n",
       "}\n",
       "#T_ed094_row1_col5 {\n",
       "  background-color: #c8cde4;\n",
       "  color: #000000;\n",
       "}\n",
       "#T_ed094_row1_col6 {\n",
       "  background-color: #f4eef6;\n",
       "  color: #000000;\n",
       "}\n",
       "#T_ed094_row1_col8, #T_ed094_row3_col9 {\n",
       "  background-color: #8fb4d6;\n",
       "  color: #000000;\n",
       "}\n",
       "#T_ed094_row1_col9, #T_ed094_row4_col1 {\n",
       "  background-color: #d9d8ea;\n",
       "  color: #000000;\n",
       "}\n",
       "#T_ed094_row2_col0, #T_ed094_row2_col3, #T_ed094_row2_col6, #T_ed094_row3_col1, #T_ed094_row3_col2, #T_ed094_row3_col4, #T_ed094_row3_col5, #T_ed094_row3_col7, #T_ed094_row3_col8, #T_ed094_row8_col9 {\n",
       "  background-color: #fff7fb;\n",
       "  color: #000000;\n",
       "}\n",
       "#T_ed094_row2_col1 {\n",
       "  background-color: #ede7f2;\n",
       "  color: #000000;\n",
       "}\n",
       "#T_ed094_row2_col4 {\n",
       "  background-color: #79abd0;\n",
       "  color: #f1f1f1;\n",
       "}\n",
       "#T_ed094_row2_col5 {\n",
       "  background-color: #d3d4e7;\n",
       "  color: #000000;\n",
       "}\n",
       "#T_ed094_row2_col7 {\n",
       "  background-color: #6ba5cd;\n",
       "  color: #f1f1f1;\n",
       "}\n",
       "#T_ed094_row2_col8 {\n",
       "  background-color: #4a98c5;\n",
       "  color: #f1f1f1;\n",
       "}\n",
       "#T_ed094_row2_col9 {\n",
       "  background-color: #fcf4fa;\n",
       "  color: #000000;\n",
       "}\n",
       "#T_ed094_row3_col0, #T_ed094_row8_col3, #T_ed094_row9_col5 {\n",
       "  background-color: #f7f0f7;\n",
       "  color: #000000;\n",
       "}\n",
       "#T_ed094_row4_col0, #T_ed094_row5_col0, #T_ed094_row7_col9 {\n",
       "  background-color: #faf3f9;\n",
       "  color: #000000;\n",
       "}\n",
       "#T_ed094_row4_col2 {\n",
       "  background-color: #60a1ca;\n",
       "  color: #f1f1f1;\n",
       "}\n",
       "#T_ed094_row4_col3, #T_ed094_row9_col7, #T_ed094_row9_col8 {\n",
       "  background-color: #f0eaf4;\n",
       "  color: #000000;\n",
       "}\n",
       "#T_ed094_row4_col5 {\n",
       "  background-color: #04649e;\n",
       "  color: #f1f1f1;\n",
       "}\n",
       "#T_ed094_row4_col6 {\n",
       "  background-color: #cccfe5;\n",
       "  color: #000000;\n",
       "}\n",
       "#T_ed094_row4_col7 {\n",
       "  background-color: #023c5f;\n",
       "  color: #f1f1f1;\n",
       "}\n",
       "#T_ed094_row4_col8 {\n",
       "  background-color: #034871;\n",
       "  color: #f1f1f1;\n",
       "}\n",
       "#T_ed094_row4_col9 {\n",
       "  background-color: #f9f2f8;\n",
       "  color: #000000;\n",
       "}\n",
       "#T_ed094_row5_col1 {\n",
       "  background-color: #dddbec;\n",
       "  color: #000000;\n",
       "}\n",
       "#T_ed094_row5_col2 {\n",
       "  background-color: #94b6d7;\n",
       "  color: #000000;\n",
       "}\n",
       "#T_ed094_row5_col3 {\n",
       "  background-color: #d2d3e7;\n",
       "  color: #000000;\n",
       "}\n",
       "#T_ed094_row5_col4 {\n",
       "  background-color: #046096;\n",
       "  color: #f1f1f1;\n",
       "}\n",
       "#T_ed094_row5_col6 {\n",
       "  background-color: #e9e5f1;\n",
       "  color: #000000;\n",
       "}\n",
       "#T_ed094_row5_col7 {\n",
       "  background-color: #0569a5;\n",
       "  color: #f1f1f1;\n",
       "}\n",
       "#T_ed094_row5_col8 {\n",
       "  background-color: #2081b9;\n",
       "  color: #f1f1f1;\n",
       "}\n",
       "#T_ed094_row5_col9 {\n",
       "  background-color: #e4e1ef;\n",
       "  color: #000000;\n",
       "}\n",
       "#T_ed094_row6_col0 {\n",
       "  background-color: #e5e1ef;\n",
       "  color: #000000;\n",
       "}\n",
       "#T_ed094_row6_col1 {\n",
       "  background-color: #f6eff7;\n",
       "  color: #000000;\n",
       "}\n",
       "#T_ed094_row6_col2 {\n",
       "  background-color: #bbc7e0;\n",
       "  color: #000000;\n",
       "}\n",
       "#T_ed094_row6_col3, #T_ed094_row7_col6 {\n",
       "  background-color: #b3c3de;\n",
       "  color: #000000;\n",
       "}\n",
       "#T_ed094_row6_col4 {\n",
       "  background-color: #8eb3d5;\n",
       "  color: #000000;\n",
       "}\n",
       "#T_ed094_row6_col5 {\n",
       "  background-color: #d8d7e9;\n",
       "  color: #000000;\n",
       "}\n",
       "#T_ed094_row6_col7 {\n",
       "  background-color: #73a9cf;\n",
       "  color: #f1f1f1;\n",
       "}\n",
       "#T_ed094_row6_col9 {\n",
       "  background-color: #bfc9e1;\n",
       "  color: #000000;\n",
       "}\n",
       "#T_ed094_row7_col0 {\n",
       "  background-color: #f8f1f8;\n",
       "  color: #000000;\n",
       "}\n",
       "#T_ed094_row7_col1 {\n",
       "  background-color: #dcdaeb;\n",
       "  color: #000000;\n",
       "}\n",
       "#T_ed094_row7_col2 {\n",
       "  background-color: #589ec8;\n",
       "  color: #f1f1f1;\n",
       "}\n",
       "#T_ed094_row7_col3, #T_ed094_row9_col4 {\n",
       "  background-color: #f2ecf5;\n",
       "  color: #000000;\n",
       "}\n",
       "#T_ed094_row7_col4 {\n",
       "  background-color: #023d60;\n",
       "  color: #f1f1f1;\n",
       "}\n",
       "#T_ed094_row7_col5 {\n",
       "  background-color: #0872b1;\n",
       "  color: #f1f1f1;\n",
       "}\n",
       "#T_ed094_row7_col8, #T_ed094_row8_col7 {\n",
       "  background-color: #034267;\n",
       "  color: #f1f1f1;\n",
       "}\n",
       "#T_ed094_row8_col0, #T_ed094_row9_col1 {\n",
       "  background-color: #fdf5fa;\n",
       "  color: #000000;\n",
       "}\n",
       "#T_ed094_row8_col1 {\n",
       "  background-color: #dad9ea;\n",
       "  color: #000000;\n",
       "}\n",
       "#T_ed094_row8_col2, #T_ed094_row8_col5 {\n",
       "  background-color: #4094c3;\n",
       "  color: #f1f1f1;\n",
       "}\n",
       "#T_ed094_row8_col4 {\n",
       "  background-color: #034973;\n",
       "  color: #f1f1f1;\n",
       "}\n",
       "#T_ed094_row8_col6 {\n",
       "  background-color: #e0deed;\n",
       "  color: #000000;\n",
       "}\n",
       "#T_ed094_row9_col0 {\n",
       "  background-color: #f5eff6;\n",
       "  color: #000000;\n",
       "}\n",
       "#T_ed094_row9_col2 {\n",
       "  background-color: #e3e0ee;\n",
       "  color: #000000;\n",
       "}\n",
       "#T_ed094_row9_col3 {\n",
       "  background-color: #6da6cd;\n",
       "  color: #f1f1f1;\n",
       "}\n",
       "#T_ed094_row9_col6 {\n",
       "  background-color: #eae6f1;\n",
       "  color: #000000;\n",
       "}\n",
       "</style>\n",
       "<table id=\"T_ed094\">\n",
       "  <thead>\n",
       "    <tr>\n",
       "      <th class=\"blank level0\" >&nbsp;</th>\n",
       "      <th id=\"T_ed094_level0_col0\" class=\"col_heading level0 col0\" >age</th>\n",
       "      <th id=\"T_ed094_level0_col1\" class=\"col_heading level0 col1\" >campaign</th>\n",
       "      <th id=\"T_ed094_level0_col2\" class=\"col_heading level0 col2\" >pdays</th>\n",
       "      <th id=\"T_ed094_level0_col3\" class=\"col_heading level0 col3\" >previous</th>\n",
       "      <th id=\"T_ed094_level0_col4\" class=\"col_heading level0 col4\" >emp.var.rate</th>\n",
       "      <th id=\"T_ed094_level0_col5\" class=\"col_heading level0 col5\" >cons.price.idx</th>\n",
       "      <th id=\"T_ed094_level0_col6\" class=\"col_heading level0 col6\" >cons.conf.idx</th>\n",
       "      <th id=\"T_ed094_level0_col7\" class=\"col_heading level0 col7\" >euribor3m</th>\n",
       "      <th id=\"T_ed094_level0_col8\" class=\"col_heading level0 col8\" >nr.employed</th>\n",
       "      <th id=\"T_ed094_level0_col9\" class=\"col_heading level0 col9\" >y</th>\n",
       "    </tr>\n",
       "  </thead>\n",
       "  <tbody>\n",
       "    <tr>\n",
       "      <th id=\"T_ed094_level0_row0\" class=\"row_heading level0 row0\" >age</th>\n",
       "      <td id=\"T_ed094_row0_col0\" class=\"data row0 col0\" >1.000000</td>\n",
       "      <td id=\"T_ed094_row0_col1\" class=\"data row0 col1\" >0.004594</td>\n",
       "      <td id=\"T_ed094_row0_col2\" class=\"data row0 col2\" >-0.034369</td>\n",
       "      <td id=\"T_ed094_row0_col3\" class=\"data row0 col3\" >0.024365</td>\n",
       "      <td id=\"T_ed094_row0_col4\" class=\"data row0 col4\" >-0.000371</td>\n",
       "      <td id=\"T_ed094_row0_col5\" class=\"data row0 col5\" >0.000857</td>\n",
       "      <td id=\"T_ed094_row0_col6\" class=\"data row0 col6\" >0.129372</td>\n",
       "      <td id=\"T_ed094_row0_col7\" class=\"data row0 col7\" >0.010767</td>\n",
       "      <td id=\"T_ed094_row0_col8\" class=\"data row0 col8\" >-0.017725</td>\n",
       "      <td id=\"T_ed094_row0_col9\" class=\"data row0 col9\" >0.030399</td>\n",
       "    </tr>\n",
       "    <tr>\n",
       "      <th id=\"T_ed094_level0_row1\" class=\"row_heading level0 row1\" >campaign</th>\n",
       "      <td id=\"T_ed094_row1_col0\" class=\"data row1 col0\" >0.004594</td>\n",
       "      <td id=\"T_ed094_row1_col1\" class=\"data row1 col1\" >1.000000</td>\n",
       "      <td id=\"T_ed094_row1_col2\" class=\"data row1 col2\" >0.052584</td>\n",
       "      <td id=\"T_ed094_row1_col3\" class=\"data row1 col3\" >-0.079141</td>\n",
       "      <td id=\"T_ed094_row1_col4\" class=\"data row1 col4\" >0.150754</td>\n",
       "      <td id=\"T_ed094_row1_col5\" class=\"data row1 col5\" >0.127836</td>\n",
       "      <td id=\"T_ed094_row1_col6\" class=\"data row1 col6\" >-0.013733</td>\n",
       "      <td id=\"T_ed094_row1_col7\" class=\"data row1 col7\" >0.135133</td>\n",
       "      <td id=\"T_ed094_row1_col8\" class=\"data row1 col8\" >0.144095</td>\n",
       "      <td id=\"T_ed094_row1_col9\" class=\"data row1 col9\" >-0.066357</td>\n",
       "    </tr>\n",
       "    <tr>\n",
       "      <th id=\"T_ed094_level0_row2\" class=\"row_heading level0 row2\" >pdays</th>\n",
       "      <td id=\"T_ed094_row2_col0\" class=\"data row2 col0\" >-0.034369</td>\n",
       "      <td id=\"T_ed094_row2_col1\" class=\"data row2 col1\" >0.052584</td>\n",
       "      <td id=\"T_ed094_row2_col2\" class=\"data row2 col2\" >1.000000</td>\n",
       "      <td id=\"T_ed094_row2_col3\" class=\"data row2 col3\" >-0.587514</td>\n",
       "      <td id=\"T_ed094_row2_col4\" class=\"data row2 col4\" >0.271004</td>\n",
       "      <td id=\"T_ed094_row2_col5\" class=\"data row2 col5\" >0.078889</td>\n",
       "      <td id=\"T_ed094_row2_col6\" class=\"data row2 col6\" >-0.091342</td>\n",
       "      <td id=\"T_ed094_row2_col7\" class=\"data row2 col7\" >0.296899</td>\n",
       "      <td id=\"T_ed094_row2_col8\" class=\"data row2 col8\" >0.372605</td>\n",
       "      <td id=\"T_ed094_row2_col9\" class=\"data row2 col9\" >-0.324914</td>\n",
       "    </tr>\n",
       "    <tr>\n",
       "      <th id=\"T_ed094_level0_row3\" class=\"row_heading level0 row3\" >previous</th>\n",
       "      <td id=\"T_ed094_row3_col0\" class=\"data row3 col0\" >0.024365</td>\n",
       "      <td id=\"T_ed094_row3_col1\" class=\"data row3 col1\" >-0.079141</td>\n",
       "      <td id=\"T_ed094_row3_col2\" class=\"data row3 col2\" >-0.587514</td>\n",
       "      <td id=\"T_ed094_row3_col3\" class=\"data row3 col3\" >1.000000</td>\n",
       "      <td id=\"T_ed094_row3_col4\" class=\"data row3 col4\" >-0.420489</td>\n",
       "      <td id=\"T_ed094_row3_col5\" class=\"data row3 col5\" >-0.203130</td>\n",
       "      <td id=\"T_ed094_row3_col6\" class=\"data row3 col6\" >-0.050936</td>\n",
       "      <td id=\"T_ed094_row3_col7\" class=\"data row3 col7\" >-0.454494</td>\n",
       "      <td id=\"T_ed094_row3_col8\" class=\"data row3 col8\" >-0.501333</td>\n",
       "      <td id=\"T_ed094_row3_col9\" class=\"data row3 col9\" >0.230181</td>\n",
       "    </tr>\n",
       "    <tr>\n",
       "      <th id=\"T_ed094_level0_row4\" class=\"row_heading level0 row4\" >emp.var.rate</th>\n",
       "      <td id=\"T_ed094_row4_col0\" class=\"data row4 col0\" >-0.000371</td>\n",
       "      <td id=\"T_ed094_row4_col1\" class=\"data row4 col1\" >0.150754</td>\n",
       "      <td id=\"T_ed094_row4_col2\" class=\"data row4 col2\" >0.271004</td>\n",
       "      <td id=\"T_ed094_row4_col3\" class=\"data row4 col3\" >-0.420489</td>\n",
       "      <td id=\"T_ed094_row4_col4\" class=\"data row4 col4\" >1.000000</td>\n",
       "      <td id=\"T_ed094_row4_col5\" class=\"data row4 col5\" >0.775334</td>\n",
       "      <td id=\"T_ed094_row4_col6\" class=\"data row4 col6\" >0.196041</td>\n",
       "      <td id=\"T_ed094_row4_col7\" class=\"data row4 col7\" >0.972245</td>\n",
       "      <td id=\"T_ed094_row4_col8\" class=\"data row4 col8\" >0.906970</td>\n",
       "      <td id=\"T_ed094_row4_col9\" class=\"data row4 col9\" >-0.298334</td>\n",
       "    </tr>\n",
       "    <tr>\n",
       "      <th id=\"T_ed094_level0_row5\" class=\"row_heading level0 row5\" >cons.price.idx</th>\n",
       "      <td id=\"T_ed094_row5_col0\" class=\"data row5 col0\" >0.000857</td>\n",
       "      <td id=\"T_ed094_row5_col1\" class=\"data row5 col1\" >0.127836</td>\n",
       "      <td id=\"T_ed094_row5_col2\" class=\"data row5 col2\" >0.078889</td>\n",
       "      <td id=\"T_ed094_row5_col3\" class=\"data row5 col3\" >-0.203130</td>\n",
       "      <td id=\"T_ed094_row5_col4\" class=\"data row5 col4\" >0.775334</td>\n",
       "      <td id=\"T_ed094_row5_col5\" class=\"data row5 col5\" >1.000000</td>\n",
       "      <td id=\"T_ed094_row5_col6\" class=\"data row5 col6\" >0.058986</td>\n",
       "      <td id=\"T_ed094_row5_col7\" class=\"data row5 col7\" >0.688230</td>\n",
       "      <td id=\"T_ed094_row5_col8\" class=\"data row5 col8\" >0.522034</td>\n",
       "      <td id=\"T_ed094_row5_col9\" class=\"data row5 col9\" >-0.136211</td>\n",
       "    </tr>\n",
       "    <tr>\n",
       "      <th id=\"T_ed094_level0_row6\" class=\"row_heading level0 row6\" >cons.conf.idx</th>\n",
       "      <td id=\"T_ed094_row6_col0\" class=\"data row6 col0\" >0.129372</td>\n",
       "      <td id=\"T_ed094_row6_col1\" class=\"data row6 col1\" >-0.013733</td>\n",
       "      <td id=\"T_ed094_row6_col2\" class=\"data row6 col2\" >-0.091342</td>\n",
       "      <td id=\"T_ed094_row6_col3\" class=\"data row6 col3\" >-0.050936</td>\n",
       "      <td id=\"T_ed094_row6_col4\" class=\"data row6 col4\" >0.196041</td>\n",
       "      <td id=\"T_ed094_row6_col5\" class=\"data row6 col5\" >0.058986</td>\n",
       "      <td id=\"T_ed094_row6_col6\" class=\"data row6 col6\" >1.000000</td>\n",
       "      <td id=\"T_ed094_row6_col7\" class=\"data row6 col7\" >0.277686</td>\n",
       "      <td id=\"T_ed094_row6_col8\" class=\"data row6 col8\" >0.100513</td>\n",
       "      <td id=\"T_ed094_row6_col9\" class=\"data row6 col9\" >0.054878</td>\n",
       "    </tr>\n",
       "    <tr>\n",
       "      <th id=\"T_ed094_level0_row7\" class=\"row_heading level0 row7\" >euribor3m</th>\n",
       "      <td id=\"T_ed094_row7_col0\" class=\"data row7 col0\" >0.010767</td>\n",
       "      <td id=\"T_ed094_row7_col1\" class=\"data row7 col1\" >0.135133</td>\n",
       "      <td id=\"T_ed094_row7_col2\" class=\"data row7 col2\" >0.296899</td>\n",
       "      <td id=\"T_ed094_row7_col3\" class=\"data row7 col3\" >-0.454494</td>\n",
       "      <td id=\"T_ed094_row7_col4\" class=\"data row7 col4\" >0.972245</td>\n",
       "      <td id=\"T_ed094_row7_col5\" class=\"data row7 col5\" >0.688230</td>\n",
       "      <td id=\"T_ed094_row7_col6\" class=\"data row7 col6\" >0.277686</td>\n",
       "      <td id=\"T_ed094_row7_col7\" class=\"data row7 col7\" >1.000000</td>\n",
       "      <td id=\"T_ed094_row7_col8\" class=\"data row7 col8\" >0.945154</td>\n",
       "      <td id=\"T_ed094_row7_col9\" class=\"data row7 col9\" >-0.307771</td>\n",
       "    </tr>\n",
       "    <tr>\n",
       "      <th id=\"T_ed094_level0_row8\" class=\"row_heading level0 row8\" >nr.employed</th>\n",
       "      <td id=\"T_ed094_row8_col0\" class=\"data row8 col0\" >-0.017725</td>\n",
       "      <td id=\"T_ed094_row8_col1\" class=\"data row8 col1\" >0.144095</td>\n",
       "      <td id=\"T_ed094_row8_col2\" class=\"data row8 col2\" >0.372605</td>\n",
       "      <td id=\"T_ed094_row8_col3\" class=\"data row8 col3\" >-0.501333</td>\n",
       "      <td id=\"T_ed094_row8_col4\" class=\"data row8 col4\" >0.906970</td>\n",
       "      <td id=\"T_ed094_row8_col5\" class=\"data row8 col5\" >0.522034</td>\n",
       "      <td id=\"T_ed094_row8_col6\" class=\"data row8 col6\" >0.100513</td>\n",
       "      <td id=\"T_ed094_row8_col7\" class=\"data row8 col7\" >0.945154</td>\n",
       "      <td id=\"T_ed094_row8_col8\" class=\"data row8 col8\" >1.000000</td>\n",
       "      <td id=\"T_ed094_row8_col9\" class=\"data row8 col9\" >-0.354678</td>\n",
       "    </tr>\n",
       "    <tr>\n",
       "      <th id=\"T_ed094_level0_row9\" class=\"row_heading level0 row9\" >y</th>\n",
       "      <td id=\"T_ed094_row9_col0\" class=\"data row9 col0\" >0.030399</td>\n",
       "      <td id=\"T_ed094_row9_col1\" class=\"data row9 col1\" >-0.066357</td>\n",
       "      <td id=\"T_ed094_row9_col2\" class=\"data row9 col2\" >-0.324914</td>\n",
       "      <td id=\"T_ed094_row9_col3\" class=\"data row9 col3\" >0.230181</td>\n",
       "      <td id=\"T_ed094_row9_col4\" class=\"data row9 col4\" >-0.298334</td>\n",
       "      <td id=\"T_ed094_row9_col5\" class=\"data row9 col5\" >-0.136211</td>\n",
       "      <td id=\"T_ed094_row9_col6\" class=\"data row9 col6\" >0.054878</td>\n",
       "      <td id=\"T_ed094_row9_col7\" class=\"data row9 col7\" >-0.307771</td>\n",
       "      <td id=\"T_ed094_row9_col8\" class=\"data row9 col8\" >-0.354678</td>\n",
       "      <td id=\"T_ed094_row9_col9\" class=\"data row9 col9\" >1.000000</td>\n",
       "    </tr>\n",
       "  </tbody>\n",
       "</table>\n"
      ],
      "text/plain": [
       "<pandas.io.formats.style.Styler at 0x2218915e6c0>"
      ]
     },
     "execution_count": 50,
     "metadata": {},
     "output_type": "execute_result"
    }
   ],
   "source": [
    "# Build correlation matrix for numeric columns\n",
    "numeric_df = df.select_dtypes(include=['number'])\n",
    "corr = numeric_df.corr()\n",
    "corr.style.background_gradient(cmap='PuBu')"
   ]
  },
  {
   "cell_type": "markdown",
   "metadata": {},
   "source": [
    "**From correlation matrix we observe next:**\n",
    "\n",
    "###### higly correlated features (employment rate, consumer confidence index, consumer price index) may describe clients state from different social-economic angles. Their variance might support model capacity for generalization."
   ]
  },
  {
   "cell_type": "markdown",
   "metadata": {},
   "source": [
    "**Data cleaning stategy**"
   ]
  },
  {
   "cell_type": "code",
   "execution_count": 51,
   "metadata": {},
   "outputs": [],
   "source": [
    "# Replacing values with binary ()\n",
    "df.contact = df.contact.map({'cellular': 1, 'telephone': 0}).astype('uint8') \n",
    "df.loan = df.loan.map({'yes': 1, 'unknown': 0, 'no' : 0}).astype('uint8')\n",
    "df.housing = df.housing.map({'yes': 1, 'unknown': 0, 'no' : 0}).astype('uint8')\n",
    "df.default = df.default.map({'no': 1, 'unknown': 0, 'yes': 0}).astype('uint8')\n",
    "df.pdays = df.pdays.replace(999, 0) # replace with 0 if not contact \n",
    "df.previous = df.previous.apply(lambda x: 1 if x > 0 else 0).astype('uint8') # binary has contact or not\n",
    "\n",
    "# binary if were was an outcome of marketing campane\n",
    "df.poutcome = df.poutcome.map({'nonexistent':0, 'failure':0, 'success':1}).astype('uint8') \n",
    "\n",
    "# change the range of Var Rate\n",
    "df['emp.var.rate'] = df['emp.var.rate'].apply(lambda x: x*-0.0001 if x > 0 else x*1)\n",
    "df['emp.var.rate'] = df['emp.var.rate'] * -1\n",
    "df['emp.var.rate'] = df['emp.var.rate'].apply(lambda x: -np.log(x) if x < 1 else np.log(x)).astype('uint8')\n",
    "\n",
    "# Multiply consumer index \n",
    "df['cons.price.idx'] = (df['cons.price.idx'] * 10).astype('uint8')\n",
    "\n",
    "# change the sign (we want all be positive values)\n",
    "df['cons.conf.idx'] = df['cons.conf.idx'] * -1\n",
    "\n",
    "# re-scale variables\n",
    "df['nr.employed'] = np.log2(df['nr.employed']).astype('uint8')\n",
    "df['cons.price.idx'] = np.log2(df['cons.price.idx']).astype('uint8')\n",
    "df['cons.conf.idx'] = np.log2(df['cons.conf.idx']).astype('uint8')\n",
    "df.age = np.log(df.age)\n",
    "\n",
    "# less space\n",
    "df.euribor3m = df.euribor3m.astype('uint8')\n",
    "df.campaign = df.campaign.astype('uint8')\n",
    "df.pdays = df.pdays.astype('uint8')\n",
    "\n",
    "# fucntion to One Hot Encoding\n",
    "def encode(df, col):\n",
    "    return pd.concat([df, pd.get_dummies(col, prefix=col.name, dtype=int)], axis=1)\n",
    "\n",
    "# One Hot encoding of 3 variable \n",
    "df = encode(df, df.job)\n",
    "df = encode(df, df.month)\n",
    "df = encode(df, df.day_of_week)\n",
    "\n",
    "# Drop tranfromed features\n",
    "df.drop(['job', 'month', 'day_of_week'], axis=1, inplace=True)"
   ]
  },
  {
   "cell_type": "markdown",
   "metadata": {},
   "source": [
    "**Drop the dublicates**"
   ]
  },
  {
   "cell_type": "code",
   "execution_count": 52,
   "metadata": {},
   "outputs": [],
   "source": [
    "df.drop_duplicates(inplace=True) "
   ]
  },
  {
   "cell_type": "markdown",
   "metadata": {},
   "source": [
    "**Target encoding for two categorical feature**"
   ]
  },
  {
   "cell_type": "code",
   "execution_count": 53,
   "metadata": {},
   "outputs": [],
   "source": [
    "df = encode(df, df['marital'])\n",
    "df = encode(df, df['education'])\n",
    "df.drop(['marital', 'education'], axis=1, inplace=True)\n",
    "numeric_dataset = df.copy()\n",
    "numeric_dataset.drop('y', axis=1, inplace=True)"
   ]
  },
  {
   "cell_type": "markdown",
   "metadata": {},
   "source": [
    "**Check numerical data set**"
   ]
  },
  {
   "cell_type": "code",
   "execution_count": 54,
   "metadata": {},
   "outputs": [
    {
     "data": {
      "text/html": [
       "<div>\n",
       "<style scoped>\n",
       "    .dataframe tbody tr th:only-of-type {\n",
       "        vertical-align: middle;\n",
       "    }\n",
       "\n",
       "    .dataframe tbody tr th {\n",
       "        vertical-align: top;\n",
       "    }\n",
       "\n",
       "    .dataframe thead th {\n",
       "        text-align: right;\n",
       "    }\n",
       "</style>\n",
       "<table border=\"1\" class=\"dataframe\">\n",
       "  <thead>\n",
       "    <tr style=\"text-align: right;\">\n",
       "      <th></th>\n",
       "      <th>age</th>\n",
       "      <th>default</th>\n",
       "      <th>housing</th>\n",
       "      <th>loan</th>\n",
       "      <th>contact</th>\n",
       "      <th>campaign</th>\n",
       "      <th>pdays</th>\n",
       "      <th>previous</th>\n",
       "      <th>poutcome</th>\n",
       "      <th>emp.var.rate</th>\n",
       "      <th>...</th>\n",
       "      <th>marital_divorced</th>\n",
       "      <th>marital_married</th>\n",
       "      <th>marital_single</th>\n",
       "      <th>education_basic.4y</th>\n",
       "      <th>education_basic.6y</th>\n",
       "      <th>education_basic.9y</th>\n",
       "      <th>education_high.school</th>\n",
       "      <th>education_illiterate</th>\n",
       "      <th>education_professional.course</th>\n",
       "      <th>education_university.degree</th>\n",
       "    </tr>\n",
       "  </thead>\n",
       "  <tbody>\n",
       "    <tr>\n",
       "      <th>0</th>\n",
       "      <td>4.025352</td>\n",
       "      <td>1</td>\n",
       "      <td>0</td>\n",
       "      <td>0</td>\n",
       "      <td>0</td>\n",
       "      <td>1</td>\n",
       "      <td>0</td>\n",
       "      <td>0</td>\n",
       "      <td>0</td>\n",
       "      <td>9</td>\n",
       "      <td>...</td>\n",
       "      <td>0</td>\n",
       "      <td>1</td>\n",
       "      <td>0</td>\n",
       "      <td>1</td>\n",
       "      <td>0</td>\n",
       "      <td>0</td>\n",
       "      <td>0</td>\n",
       "      <td>0</td>\n",
       "      <td>0</td>\n",
       "      <td>0</td>\n",
       "    </tr>\n",
       "    <tr>\n",
       "      <th>1</th>\n",
       "      <td>4.043051</td>\n",
       "      <td>1</td>\n",
       "      <td>0</td>\n",
       "      <td>0</td>\n",
       "      <td>0</td>\n",
       "      <td>1</td>\n",
       "      <td>0</td>\n",
       "      <td>0</td>\n",
       "      <td>0</td>\n",
       "      <td>9</td>\n",
       "      <td>...</td>\n",
       "      <td>0</td>\n",
       "      <td>1</td>\n",
       "      <td>0</td>\n",
       "      <td>0</td>\n",
       "      <td>0</td>\n",
       "      <td>0</td>\n",
       "      <td>1</td>\n",
       "      <td>0</td>\n",
       "      <td>0</td>\n",
       "      <td>0</td>\n",
       "    </tr>\n",
       "    <tr>\n",
       "      <th>2</th>\n",
       "      <td>3.610918</td>\n",
       "      <td>1</td>\n",
       "      <td>1</td>\n",
       "      <td>0</td>\n",
       "      <td>0</td>\n",
       "      <td>1</td>\n",
       "      <td>0</td>\n",
       "      <td>0</td>\n",
       "      <td>0</td>\n",
       "      <td>9</td>\n",
       "      <td>...</td>\n",
       "      <td>0</td>\n",
       "      <td>1</td>\n",
       "      <td>0</td>\n",
       "      <td>0</td>\n",
       "      <td>0</td>\n",
       "      <td>0</td>\n",
       "      <td>1</td>\n",
       "      <td>0</td>\n",
       "      <td>0</td>\n",
       "      <td>0</td>\n",
       "    </tr>\n",
       "  </tbody>\n",
       "</table>\n",
       "<p>3 rows × 50 columns</p>\n",
       "</div>"
      ],
      "text/plain": [
       "        age  default  housing  loan  contact  campaign  pdays  previous  \\\n",
       "0  4.025352        1        0     0        0         1      0         0   \n",
       "1  4.043051        1        0     0        0         1      0         0   \n",
       "2  3.610918        1        1     0        0         1      0         0   \n",
       "\n",
       "   poutcome  emp.var.rate  ...  marital_divorced  marital_married  \\\n",
       "0         0             9  ...                 0                1   \n",
       "1         0             9  ...                 0                1   \n",
       "2         0             9  ...                 0                1   \n",
       "\n",
       "   marital_single  education_basic.4y  education_basic.6y  education_basic.9y  \\\n",
       "0               0                   1                   0                   0   \n",
       "1               0                   0                   0                   0   \n",
       "2               0                   0                   0                   0   \n",
       "\n",
       "   education_high.school  education_illiterate  education_professional.course  \\\n",
       "0                      0                     0                              0   \n",
       "1                      1                     0                              0   \n",
       "2                      1                     0                              0   \n",
       "\n",
       "   education_university.degree  \n",
       "0                            0  \n",
       "1                            0  \n",
       "2                            0  \n",
       "\n",
       "[3 rows x 50 columns]"
      ]
     },
     "metadata": {},
     "output_type": "display_data"
    },
    {
     "data": {
      "text/plain": [
       "(38175, 50)"
      ]
     },
     "metadata": {},
     "output_type": "display_data"
    },
    {
     "data": {
      "text/plain": [
       "(38175,)"
      ]
     },
     "metadata": {},
     "output_type": "display_data"
    },
    {
     "data": {
      "text/plain": [
       "'We observe 41175 rows and 43 numerical features after transformation. Target variable shape is (41175, 0 ) as expected'"
      ]
     },
     "metadata": {},
     "output_type": "display_data"
    }
   ],
   "source": [
    "y = df['y']  # Define the target variable\n",
    "display(numeric_dataset.head(3), numeric_dataset.shape, y.shape)\n",
    "display('We observe 41175 rows and 43 numerical features after transformation. Target variable shape is (41175, 0 ) as expected')"
   ]
  },
  {
   "cell_type": "code",
   "execution_count": 55,
   "metadata": {},
   "outputs": [],
   "source": [
    "X_train, X_test, y_train, y_test = train_test_split(numeric_dataset, y, test_size=0.2, random_state=42)"
   ]
  },
  {
   "cell_type": "code",
   "execution_count": 56,
   "metadata": {},
   "outputs": [
    {
     "data": {
      "text/plain": [
       "'check the shape of splitted train and test sets'"
      ]
     },
     "metadata": {},
     "output_type": "display_data"
    },
    {
     "data": {
      "text/plain": [
       "(30540, 50)"
      ]
     },
     "metadata": {},
     "output_type": "display_data"
    },
    {
     "data": {
      "text/plain": [
       "(30540,)"
      ]
     },
     "metadata": {},
     "output_type": "display_data"
    },
    {
     "data": {
      "text/plain": [
       "(7635, 50)"
      ]
     },
     "metadata": {},
     "output_type": "display_data"
    },
    {
     "data": {
      "text/plain": [
       "(7635,)"
      ]
     },
     "metadata": {},
     "output_type": "display_data"
    }
   ],
   "source": [
    "display('check the shape of splitted train and test sets', X_train.shape, y_train.shape, X_test.shape, y_test.shape)"
   ]
  },
  {
   "cell_type": "code",
   "execution_count": 57,
   "metadata": {},
   "outputs": [],
   "source": [
    "svm_model = SVC(kernel='rbf', random_state=42)\n",
    "svm_model.fit(X_train, y_train)\n",
    "y_pred_svm = svm_model.predict(X_test)"
   ]
  },
  {
   "cell_type": "code",
   "execution_count": 58,
   "metadata": {},
   "outputs": [
    {
     "name": "stdout",
     "output_type": "stream",
     "text": [
      "=== Support Vector Machine (SVM) ===\n",
      "Accuracy: 0.8882776686313032\n",
      "Classification Report:\n",
      "              precision    recall  f1-score   support\n",
      "\n",
      "           0       0.90      0.98      0.94      6681\n",
      "           1       0.66      0.21      0.32       954\n",
      "\n",
      "    accuracy                           0.89      7635\n",
      "   macro avg       0.78      0.60      0.63      7635\n",
      "weighted avg       0.87      0.89      0.86      7635\n",
      "\n"
     ]
    }
   ],
   "source": [
    "print(\"=== Support Vector Machine (SVM) ===\")\n",
    "print(\"Accuracy:\", accuracy_score(y_test, y_pred_svm))\n",
    "print(\"Classification Report:\")\n",
    "print(classification_report(y_test, y_pred_svm))"
   ]
  },
  {
   "cell_type": "code",
   "execution_count": 59,
   "metadata": {},
   "outputs": [
    {
     "data": {
      "image/png": "[encoded data removed]",
      "text/plain": [
       "<Figure size 600x400 with 2 Axes>"
      ]
     },
     "metadata": {},
     "output_type": "display_data"
    }
   ],
   "source": [
    "cm_svm = confusion_matrix(y_test, y_pred_svm)\n",
    "plt.figure(figsize=(6,4))\n",
    "sns.heatmap(cm_svm, annot=True, fmt='d', cmap='Blues')\n",
    "plt.title(\"SVM Confusion Matrix\")\n",
    "plt.xlabel(\"Predicted\")\n",
    "plt.ylabel(\"Actual\")\n",
    "plt.show()"
   ]
  },
  {
   "cell_type": "code",
   "execution_count": 60,
   "metadata": {},
   "outputs": [],
   "source": [
    "lr_model = LogisticRegression(max_iter=1000, random_state=42)\n",
    "lr_model.fit(X_train, y_train)\n",
    "y_pred_lr = lr_model.predict(X_test)"
   ]
  },
  {
   "cell_type": "code",
   "execution_count": 61,
   "metadata": {},
   "outputs": [
    {
     "name": "stdout",
     "output_type": "stream",
     "text": [
      "\n",
      "=== Logistic Regression ===\n",
      "Accuracy: 0.8901113294040602\n",
      "Classification Report:\n",
      "              precision    recall  f1-score   support\n",
      "\n",
      "           0       0.90      0.99      0.94      6681\n",
      "           1       0.70      0.21      0.33       954\n",
      "\n",
      "    accuracy                           0.89      7635\n",
      "   macro avg       0.80      0.60      0.63      7635\n",
      "weighted avg       0.87      0.89      0.86      7635\n",
      "\n"
     ]
    }
   ],
   "source": [
    "print(\"\\n=== Logistic Regression ===\")\n",
    "print(\"Accuracy:\", accuracy_score(y_test, y_pred_lr))\n",
    "print(\"Classification Report:\")\n",
    "print(classification_report(y_test, y_pred_lr))"
   ]
  },
  {
   "cell_type": "code",
   "execution_count": 62,
   "metadata": {},
   "outputs": [
    {
     "data": {
      "image/png": "[encoded data removed]",
      "text/plain": [
       "<Figure size 600x400 with 2 Axes>"
      ]
     },
     "metadata": {},
     "output_type": "display_data"
    }
   ],
   "source": [
    "cm_lr = confusion_matrix(y_test, y_pred_lr)\n",
    "plt.figure(figsize=(6,4))\n",
    "sns.heatmap(cm_lr, annot=True, fmt='d', cmap='Greens')\n",
    "plt.title(\"Logistic Regression Confusion Matrix\")\n",
    "plt.xlabel(\"Predicted\")\n",
    "plt.ylabel(\"Actual\")\n",
    "plt.show()"
   ]
  },
  {
   "cell_type": "code",
   "execution_count": 63,
   "metadata": {},
   "outputs": [
    {
     "data": {
      "text/plain": [
       "['preprocessor.pkl']"
      ]
     },
     "execution_count": 63,
     "metadata": {},
     "output_type": "execute_result"
    }
   ],
   "source": [
    "joblib.dump(lr_model, \"model.pkl\")\n",
    "joblib.dump(svm_model, \"preprocessor.pkl\")"
   ]
  },
  {
   "cell_type": "code",
   "execution_count": 100,
   "metadata": {},
   "outputs": [],
   "source": [
    "sample_clients = pd.DataFrame([\n",
    "    {'age': 41, 'contact': 1, 'loan': 0, 'housing': 0, 'default': 1, 'pdays': 7, 'previous': 1, 'poutcome': 1,\n",
    "     'emp.var.rate': 1.1, 'cons.price.idx': 92.0, 'cons.conf.idx': -36.0, 'nr.employed': 5099.1,\n",
    "     'euribor3m': 4.5, 'campaign': 1, 'job': 'blue-collar', 'month': 'may', 'day_of_week': 'mon',\n",
    "     'marital': 'single', 'education': 'university.degree'},\n",
    "    \n",
    "    {'age': 60, 'contact': 0, 'loan': 0, 'housing': 1, 'default': 1, 'pdays': 0, 'previous': 0, 'poutcome': 0,\n",
    "     'emp.var.rate': -1.8, 'cons.price.idx': 93.0, 'cons.conf.idx': -40.0, 'nr.employed': 5191.0,\n",
    "     'euribor3m': 1.3, 'campaign': 2, 'job': 'retired', 'month': 'jun', 'day_of_week': 'tue',\n",
    "     'marital': 'married', 'education': 'basic.9y'},\n",
    "    \n",
    "    {'age': 45, 'contact': 1, 'loan': 0, 'housing': 0, 'default': 1, 'pdays': 7, 'previous': 1, 'poutcome': 0,\n",
    "     'emp.var.rate': -1.1, 'cons.price.idx': 93.5, 'cons.conf.idx': -30.0, 'nr.employed': 5076.2,\n",
    "     'euribor3m': 2.1, 'campaign': 3, 'job': 'admin.', 'month': 'jul', 'day_of_week': 'wed',\n",
    "     'marital': 'divorced', 'education': 'high.school'},\n",
    "    \n",
    "    {'age': 35, 'contact': 0, 'loan': 1, 'housing': 1, 'default': 1, 'pdays': 0, 'previous': 0, 'poutcome': 0,\n",
    "     'emp.var.rate': 1.4, 'cons.price.idx': 94.0, 'cons.conf.idx': -45.0, 'nr.employed': 5017.5,\n",
    "     'euribor3m': 3.3, 'campaign': 4, 'job': 'technician', 'month': 'aug', 'day_of_week': 'thu',\n",
    "     'marital': 'single', 'education': 'professional.course'},\n",
    "    \n",
    "    {'age': 52, 'contact': 1, 'loan': 0, 'housing': 1, 'default': 1, 'pdays': 3, 'previous': 1, 'poutcome': 0,\n",
    "     'emp.var.rate': -0.1, 'cons.price.idx': 92.9, 'cons.conf.idx': -38.0, 'nr.employed': 5095.0,\n",
    "     'euribor3m': 2.0, 'campaign': 3, 'job': 'management', 'month': 'may', 'day_of_week': 'fri',\n",
    "     'marital': 'married', 'education': 'university.degree'},\n",
    "    \n",
    "    {'age': 29, 'contact': 1, 'loan': 0, 'housing': 0, 'default': 1, 'pdays': 0, 'previous': 0, 'poutcome': 0,\n",
    "     'emp.var.rate': -3.4, 'cons.price.idx': 91.0, 'cons.conf.idx': -50.0, 'nr.employed': 4965.0,\n",
    "     'euribor3m': 1.1, 'campaign': 1, 'job': 'unemployed', 'month': 'nov', 'day_of_week': 'mon',\n",
    "     'marital': 'single', 'education': 'basic.6y'},\n",
    "    \n",
    "    {'age': 48, 'contact': 1, 'loan': 0, 'housing': 0, 'default': 1, 'pdays': 999, 'previous': 1, 'poutcome': 1,\n",
    "     'emp.var.rate': -1.2, 'cons.price.idx': 93.2, 'cons.conf.idx': -39.8, 'nr.employed': 5020.0,\n",
    "     'euribor3m': 3.2, 'campaign': 7, 'job': 'services', 'month': 'dec', 'day_of_week': 'wed',\n",
    "     'marital': 'unknown', 'education': 'unknown'},\n",
    "    \n",
    "    {'age': 33, 'contact': 0, 'loan': 0, 'housing': 0, 'default': 1, 'pdays': 999, 'previous': 1, 'poutcome': 0,\n",
    "     'emp.var.rate': -0.8, 'cons.price.idx': 92.6, 'cons.conf.idx': -42.0, 'nr.employed': 5080.0,\n",
    "     'euribor3m': 3.1, 'campaign': 2, 'job': 'blue-collar', 'month': 'apr', 'day_of_week': 'thu',\n",
    "     'marital': 'married', 'education': 'basic.4y'},\n",
    "    \n",
    "    {'age': 41, 'contact': 0, 'loan': 1, 'housing': 0, 'default': 1, 'pdays': 0, 'previous': 0, 'poutcome': 0,\n",
    "     'emp.var.rate': 0.2, 'cons.price.idx': 93.6, 'cons.conf.idx': -37.0, 'nr.employed': 5040.0,\n",
    "     'euribor3m': 2.8, 'campaign': 3, 'job': 'self-employed', 'month': 'sep', 'day_of_week': 'fri',\n",
    "     'marital': 'single', 'education': 'university.degree'},\n",
    "    \n",
    "    {'age': 38, 'contact': 1, 'loan': 0, 'housing': 1, 'default': 1, 'pdays': 0, 'previous': 0, 'poutcome': 0,\n",
    "     'emp.var.rate': 0.5, 'cons.price.idx': 93.9, 'cons.conf.idx': -33.0, 'nr.employed': 5055.0,\n",
    "     'euribor3m': 2.3, 'campaign': 2, 'job': 'entrepreneur', 'month': 'oct', 'day_of_week': 'tue',\n",
    "     'marital': 'married', 'education': 'high.school'}\n",
    "])"
   ]
  },
  {
   "cell_type": "code",
   "execution_count": 101,
   "metadata": {},
   "outputs": [],
   "source": [
    "# === 1. Apply log to age\n",
    "sample_clients['age'] = np.log(sample_clients['age'])\n",
    "\n",
    "# === 2. Apply binary mappings\n",
    "sample_clients['pdays'] = sample_clients['pdays'].replace(999, 0)\n",
    "sample_clients['previous'] = sample_clients['previous'].apply(lambda x: 1 if x > 0 else 0).astype('uint8')\n",
    "sample_clients['contact'] = sample_clients['contact'].astype('uint8')\n",
    "sample_clients['loan'] = sample_clients['loan'].astype('uint8')\n",
    "sample_clients['housing'] = sample_clients['housing'].astype('uint8')\n",
    "sample_clients['default'] = sample_clients['default'].astype('uint8')\n",
    "sample_clients['poutcome'] = sample_clients['poutcome'].astype('uint8')\n",
    "\n",
    "# === 3. Transform numerical features\n",
    "sample_clients['emp.var.rate'] = sample_clients['emp.var.rate'].apply(lambda x: x * -0.0001 if x > 0 else x)\n",
    "sample_clients['emp.var.rate'] *= -1\n",
    "sample_clients['emp.var.rate'] = sample_clients['emp.var.rate'].apply(lambda x: -np.log(x) if x < 1 else np.log(x)).astype('uint8')\n",
    "\n",
    "sample_clients['cons.price.idx'] = (sample_clients['cons.price.idx'] * 10).astype('uint8')\n",
    "sample_clients['cons.price.idx'] = np.log2(sample_clients['cons.price.idx']).astype('uint8')\n",
    "\n",
    "sample_clients['cons.conf.idx'] *= -1\n",
    "sample_clients['cons.conf.idx'] = np.log2(sample_clients['cons.conf.idx']).astype('uint8')\n",
    "\n",
    "sample_clients['nr.employed'] = np.log2(sample_clients['nr.employed']).astype('uint8')\n",
    "sample_clients['euribor3m'] = sample_clients['euribor3m'].astype('uint8')\n",
    "sample_clients['campaign'] = sample_clients['campaign'].astype('uint8')\n",
    "sample_clients['pdays'] = sample_clients['pdays'].astype('uint8')\n",
    "\n",
    "# === 4. One-hot encode job, month, day_of_week\n",
    "def encode(df, col):\n",
    "    return pd.concat([df, pd.get_dummies(col, prefix=col.name, dtype=int)], axis=1)\n",
    "\n",
    "sample_clients = encode(sample_clients, sample_clients['job'])\n",
    "sample_clients = encode(sample_clients, sample_clients['month'])\n",
    "sample_clients = encode(sample_clients, sample_clients['day_of_week'])\n",
    "\n",
    "# ✅ DO NOT DROP 'marital' and 'education' yet\n",
    "sample_clients.drop(['job', 'month', 'day_of_week'], axis=1, inplace=True)\n",
    "\n",
    "sample_clients = encode(sample_clients, sample_clients['marital'])\n",
    "sample_clients = encode(sample_clients, sample_clients['education'])\n",
    "sample_clients.drop(['marital', 'education'], axis=1, inplace=True)\n",
    "\n",
    "for col in numeric_dataset.columns:\n",
    "    if col not in sample_clients.columns:\n",
    "        sample_clients[col] = 0\n",
    "\n",
    "sample_clients = sample_clients[numeric_dataset.columns]\n",
    "\n"
   ]
  },
  {
   "cell_type": "code",
   "execution_count": 102,
   "metadata": {},
   "outputs": [
    {
     "name": "stdout",
     "output_type": "stream",
     "text": [
      "        age  default  housing  loan  contact  campaign  pdays  previous  \\\n",
      "0  3.713572        1        0     0        1         1      7         1   \n",
      "1  4.094345        1        1     0        0         2      0         0   \n",
      "2  3.806662        1        0     0        1         3      7         1   \n",
      "\n",
      "   poutcome  emp.var.rate  ...  marital_divorced  marital_married  \\\n",
      "0         1             9  ...                 0                0   \n",
      "1         0             0  ...                 0                1   \n",
      "2         0             0  ...                 1                0   \n",
      "\n",
      "   marital_single  education_basic.4y  education_basic.6y  education_basic.9y  \\\n",
      "0               1                   0                   0                   0   \n",
      "1               0                   0                   0                   1   \n",
      "2               0                   0                   0                   0   \n",
      "\n",
      "   education_high.school  education_illiterate  education_professional.course  \\\n",
      "0                      0                     0                              0   \n",
      "1                      0                     0                              0   \n",
      "2                      1                     0                              0   \n",
      "\n",
      "   education_university.degree  \n",
      "0                            1  \n",
      "1                            0  \n",
      "2                            0  \n",
      "\n",
      "[3 rows x 50 columns]\n"
     ]
    }
   ],
   "source": [
    "print(sample_clients.head(3))"
   ]
  },
  {
   "cell_type": "code",
   "execution_count": 103,
   "metadata": {},
   "outputs": [
    {
     "name": "stdout",
     "output_type": "stream",
     "text": [
      "[0 0 1 0 0 0 0 0 0 0] [0 0 0 0 0 0 0 0 0 0]\n"
     ]
    }
   ],
   "source": [
    "predictions_01 = svm_model.predict(sample_clients)\n",
    "predictions_02 = lr_model.predict(sample_clients)\n",
    "\n",
    "print(predictions_01, predictions_02)"
   ]
  }
 ],
 "metadata": {
  "kernelspec": {
   "display_name": "Python 3",
   "language": "python",
   "name": "python3"
  },
  "language_info": {
   "codemirror_mode": {
    "name": "ipython",
    "version": 3
   },
   "file_extension": ".py",
   "mimetype": "text/x-python",
   "name": "python",
   "nbconvert_exporter": "python",
   "pygments_lexer": "ipython3",
   "version": "3.12.6"
  }
 },
 "nbformat": 4,
 "nbformat_minor": 2
}
